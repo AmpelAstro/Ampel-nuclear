{
 "cells": [
  {
   "cell_type": "markdown",
   "id": "4fd252ee",
   "metadata": {},
   "source": [
    "Run TDE/nuclear program manually."
   ]
  },
  {
   "cell_type": "code",
   "execution_count": null,
   "id": "cc4d474e",
   "metadata": {},
   "outputs": [],
   "source": [
    "import requests, os\n",
    "from astropy.time import Time"
   ]
  },
  {
   "cell_type": "code",
   "execution_count": null,
   "id": "2304d7c2",
   "metadata": {},
   "outputs": [],
   "source": [
    "token = os.environ[\"ARCHIVE_TOKEN\"]\n",
    "header = {\"Authorization\": \"bearer \"+token}\n",
    "base_url = 'https://ampel.zeuthen.desy.de/api/ztf/archive/v3'\n",
    "from ampel.log.AmpelLogger import AmpelLogger\n",
    "from ampel.contrib.ztfbh.t0.NuclearFilter import NuclearFilter\n",
    "\n",
    "from ampel.ztf.t0.load.ZTFArchiveAlertLoader import ZTFArchiveAlertLoader\n",
    "from ampel.ztf.alert.ZiAlertSupplier import ZiAlertSupplier\n",
    "from ampel.secret.AmpelVault import AmpelVault\n",
    "from ampel.secret.DictSecretProvider import DictSecretProvider\n",
    "from ampel.dev.DevAmpelContext import DevAmpelContext"
   ]
  },
  {
   "cell_type": "code",
   "execution_count": null,
   "id": "7af38731",
   "metadata": {},
   "outputs": [],
   "source": [
    "logger = AmpelLogger.get_logger()"
   ]
  },
  {
   "cell_type": "markdown",
   "id": "6da955a8",
   "metadata": {},
   "source": [
    "## A. Define filter parameters\n",
    "Copied from latest release."
   ]
  },
  {
   "cell_type": "code",
   "execution_count": null,
   "id": "f779ff60",
   "metadata": {},
   "outputs": [],
   "source": [
    "# Decent filter parameters\n",
    "filter_config = {\n",
    "     \"minDetections\": 3,\n",
    "     \"maxDistPS1source\": 0.5,\n",
    "     \"closePS1dist\": 0.5,\n",
    "     \"maxDeltaRad\": 0.5,\n",
    "     \"diffmagLimit\": 20,\n",
    "     \"maxDeltaMag\": 2.5,\n",
    "    \"resource\": {\"ampel-ztf/catalogmatch\":\"https://ampel.zeuthen.desy.de/api/catalogmatch/\"},\n",
    "}"
   ]
  },
  {
   "cell_type": "code",
   "execution_count": null,
   "id": "82d45239",
   "metadata": {},
   "outputs": [],
   "source": [
    "t0filter = NuclearFilter( **filter_config, logger=logger )\n",
    "t0filter.post_init()"
   ]
  },
  {
   "cell_type": "markdown",
   "id": "3f9458b7",
   "metadata": {},
   "source": [
    "## B. Getting a handle to alerts.\n",
    "A _resume token_, which points to a specific set of alerts. We limit the alerts we download through an initial query based on direct alert properties, where possible. "
   ]
  },
  {
   "cell_type": "code",
   "execution_count": null,
   "id": "cc5afdb5",
   "metadata": {},
   "outputs": [],
   "source": [
    "delta_t = 3."
   ]
  },
  {
   "cell_type": "code",
   "execution_count": null,
   "id": "9d57df8c",
   "metadata": {},
   "outputs": [],
   "source": [
    "# Adding some handles to make it feasible...\n",
    "query = {\n",
    "  \"jd\": {\n",
    "    \"$gt\": Time.now().jd-delta_t,\n",
    "    \"$lt\": Time.now().jd\n",
    "  },\n",
    "  \"candidate\": {\n",
    "    \"distpsnr1\": {\n",
    "      \"$lt\": filter_config['maxDistPS1source']\n",
    "    },\n",
    "#    \"drb\": {\n",
    "#      \"$gt\": 0.95   \n",
    "#    },\n",
    "    \"ndethist\": {\n",
    "      \"$gte\": filter_config['minDetections'],\n",
    "    },\n",
    "    \"isdiffpos\": {\"$in\": [\"t\", \"1\"]},\n",
    "  }\n",
    "}"
   ]
  },
  {
   "cell_type": "code",
   "execution_count": null,
   "id": "a8e8bc77",
   "metadata": {},
   "outputs": [],
   "source": [
    "# Connection\n",
    "endpoint = 'https://ampel.zeuthen.desy.de/api/ztf/archive/v3/streams/from_query?'\n",
    "header = {\"Authorization\": \"bearer \"+os.environ[\"ARCHIVE_TOKEN\"]}"
   ]
  },
  {
   "cell_type": "code",
   "execution_count": null,
   "id": "a38013e0",
   "metadata": {},
   "outputs": [],
   "source": [
    "response = requests.post(endpoint, headers=header, json=query )"
   ]
  },
  {
   "cell_type": "code",
   "execution_count": null,
   "id": "6c95574a",
   "metadata": {},
   "outputs": [],
   "source": [
    "response.ok"
   ]
  },
  {
   "cell_type": "code",
   "execution_count": null,
   "id": "2f6de5f4",
   "metadata": {},
   "outputs": [],
   "source": [
    "resume_token = response.json()['resume_token']"
   ]
  },
  {
   "cell_type": "markdown",
   "id": "de5d6410",
   "metadata": {},
   "source": [
    "## C. Define the database and channel parameters"
   ]
  },
  {
   "cell_type": "code",
   "execution_count": null,
   "id": "3b199646",
   "metadata": {},
   "outputs": [],
   "source": [
    "# Create a secret vault\n",
    "secrets = { 'slack/ztf_general/jno': os.environ[\"SNIaSLACK\"],\n",
    "            \"ztf/archive/token\": os.environ[\"ARCHIVE_TOKEN\"],\n",
    "          }\n",
    "vault = AmpelVault([DictSecretProvider(secrets)])"
   ]
  },
  {
   "cell_type": "code",
   "execution_count": null,
   "id": "3f55931e",
   "metadata": {},
   "outputs": [],
   "source": [
    "AMPEL_CONF = '/home/jnordin/github/ampel83/Ampel-HU-astro/ampel_conf.yaml'"
   ]
  },
  {
   "cell_type": "code",
   "execution_count": null,
   "id": "822ae17e",
   "metadata": {},
   "outputs": [],
   "source": [
    "channel = 'NuclearNB'"
   ]
  },
  {
   "cell_type": "code",
   "execution_count": null,
   "id": "2daa899e",
   "metadata": {},
   "outputs": [],
   "source": [
    "ctx = DevAmpelContext.load(\n",
    "    config = AMPEL_CONF,\n",
    "    db_prefix = 'Nuclear',\n",
    "    purge_db = False,\n",
    "    vault = vault\n",
    ")\n",
    "ctx.add_channel(\n",
    "    name=channel,\n",
    "    access=['ZTF', 'ZTF_PUB']\n",
    ")"
   ]
  },
  {
   "cell_type": "code",
   "execution_count": null,
   "id": "400c565e",
   "metadata": {},
   "outputs": [],
   "source": [
    "# Will use NED for spectroscopic redshifts.\n",
    "cat_conf = {\n",
    "    'catalogs' : {\n",
    "        'SDSS_spec' : {\n",
    "            'use' : 'extcats',\n",
    "            'rs_arcsec' : 2.,\n",
    "            'keys_to_append' : ['z', 'bptclass', 'subclass'],\n",
    "            'all': False,\n",
    "        },\n",
    "        'NEDz' : {\n",
    "            'use' : 'catsHTM',\n",
    "            'rs_arcsec' : 2.0,\n",
    "            'keys_to_append' : ['ObjType', 'Velocity', 'z'],\n",
    "        },\n",
    "        'GLADEv23' : {\n",
    "            'use' : 'extcats',\n",
    "            'rs_arcsec' : 2,\n",
    "            'keys_to_append' : ['z', 'dist', 'dist_err', 'flag1', 'flag2', 'flag3'],\n",
    "        },\n",
    "        'LSPhotoZZou' : {\n",
    "            'use' : 'extcats',\n",
    "            'rs_arcsec' : 2.0,\n",
    "            'keys_to_append' : ['photoz','ra','dec','e_photoz','specz','_6','logMassBest','logMassInf','logMassSup'],\n",
    "            'pre_filter' : None,\n",
    "            'post_filter' : None,\n",
    "            'all': False,\n",
    "        },\n",
    "        'wiseScosPhotoz' : {\n",
    "            'use' : 'extcats',\n",
    "            'rs_arcsec' : 2.0,\n",
    "            'keys_to_append' : ['zPhoto_Corr','ra','dec','wiseID','w1mCorr','w2mCorr'],\n",
    "            'pre_filter' : None,\n",
    "            'post_filter' : None,\n",
    "        },\n",
    "        'twoMPZ' : {\n",
    "            'use' : 'extcats',\n",
    "            'rs_arcsec' : 2.0,\n",
    "            'keys_to_append' : ['zPhoto','ra','dec','zSpec'],\n",
    "            'pre_filter' : None,\n",
    "            'post_filter' : None,\n",
    "        },\n",
    "         'PS1_photoz' : {\n",
    "            'use' : 'extcats',\n",
    "            'rs_arcsec' : 2.0,\n",
    "            'keys_to_append' : ['raMean','decMean','z_phot','z_photErr', 'z_phot0', '_2'],\n",
    "            'pre_filter' : None,\n",
    "            'post_filter' : None,\n",
    "        },\n",
    "         'PS1' : {\n",
    "            'use' : 'catsHTM',\n",
    "            'rs_arcsec' : 1,\n",
    "        },\n",
    "         'brescia' : {\n",
    "            'use' : 'extcats',\n",
    "            'rs_arcsec' : 2.,\n",
    "            'keys_to_append' : [],\n",
    "        },\n",
    "         'milliquas' : {\n",
    "            'use' : 'extcats',\n",
    "            'rs_arcsec' : 2.,\n",
    "            'keys_to_append' : ['broad_type','ref_name'],\n",
    "        },\n",
    "         'portsmouth' : {\n",
    "            'use' : 'extcats',\n",
    "            'rs_arcsec' : 2.,\n",
    "            'keys_to_append' : ['sigma_stars','sigma_stars_err','bpt'],\n",
    "        },\n",
    "         'ptfvar' : {\n",
    "            'use' : 'extcats',\n",
    "            'rs_arcsec' : 2.,\n",
    "            'keys_to_append' : [],\n",
    "        },\n",
    "         'varstars' : {\n",
    "            'use' : 'extcats',\n",
    "            'rs_arcsec' : 2.,\n",
    "            'keys_to_append' : [],\n",
    "        },\n",
    "         'wise_color' : {\n",
    "            'use' : 'extcats',\n",
    "            'rs_arcsec' : 2.,\n",
    "            'keys_to_append' : ['W1mW2'],\n",
    "        },\n",
    "    }\n",
    "}"
   ]
  },
  {
   "cell_type": "code",
   "execution_count": null,
   "id": "26b1e4d5",
   "metadata": {},
   "outputs": [],
   "source": [
    "# New, new, also with all categories?\n",
    "flexfit_conf = {\n",
    "    \"oldest_upper_limits\" : 14,\n",
    "    \"max_post_peak\" : 200,\n",
    "}"
   ]
  },
  {
   "cell_type": "code",
   "execution_count": null,
   "id": "19003be8",
   "metadata": {},
   "outputs": [],
   "source": [
    "directives = [\n",
    "        {\n",
    "            \"channel\": channel,\n",
    "            \"filter\": {\n",
    "                \"unit\": \"NuclearFilter\",\n",
    "                \"config\": filter_config,\n",
    "                \"on_stock_match\": 'bypass',\n",
    "            },\n",
    "            \"ingest\": {\n",
    "                \"mux\": {\n",
    "                    \"unit\": \"ZiArchiveMuxer\",\n",
    "                    \"config\": {\n",
    "                        \"history_days\": 999,\n",
    "                        \"future_days\": 999\n",
    "                    },\n",
    "                    \"combine\": [\n",
    "                        {\n",
    "                            \"unit\": \"ZiT1Combiner\",\n",
    "                            \"state_t2\": [\n",
    "                                {\n",
    "                                    \"unit\": \"T2FlexFit\",\n",
    "                                    \"config\": flexfit_conf,\n",
    "                                },\n",
    "                                {\n",
    "                                    \"unit\": \"T2SimpleMetrics\",\n",
    "                                },\n",
    "                            ]\n",
    "                        }\n",
    "                    ],\n",
    "                    \"insert\": {\n",
    "                        \"point_t2\": [\n",
    "                            {\n",
    "                                'unit': 'T2CatalogMatch',\n",
    "                                'config': cat_conf,\n",
    "                                \"ingest\": {\n",
    "                                    'filter': 'PPSFilter', 'sort': 'jd', 'select': 'first'\n",
    "                                }\n",
    "                            },\n",
    "                        ],\n",
    "                    }\n",
    "\n",
    "                }\n",
    "            }\n",
    "        }\n",
    "    ]"
   ]
  },
  {
   "cell_type": "code",
   "execution_count": null,
   "id": "21e1ab9c",
   "metadata": {},
   "outputs": [],
   "source": [
    "response.json()"
   ]
  },
  {
   "cell_type": "code",
   "execution_count": null,
   "id": "1d0790c1",
   "metadata": {},
   "outputs": [],
   "source": [
    "loader_config = {'archive':\"https://ampel.zeuthen.desy.de/api/ztf/archive/v3\", \"stream\":response.json()['resume_token']}"
   ]
  },
  {
   "cell_type": "code",
   "execution_count": null,
   "id": "5df84072",
   "metadata": {},
   "outputs": [],
   "source": [
    "ac = ctx.new_context_unit(\n",
    "    unit = \"AlertConsumer\",\n",
    "    process_name = \"AP_test\",\n",
    "    iter_max = 1000000000,\n",
    "    log_profile = os.environ.get('log_profile', 'debug'),\n",
    "    shaper = \"ZiDataPointShaper\",\n",
    "    compiler_opts = \"ZiCompilerOptions\",\n",
    "    supplier = {\n",
    "        \"unit\": \"ZiAlertSupplier\",\n",
    "        'config': {\n",
    "            'deserialize': None,\n",
    "            'loader': {\n",
    "                'unit': 'ZTFArchiveAlertLoader',\n",
    "                'config': loader_config\n",
    "            }\n",
    "        }\n",
    "    },\n",
    "    directives = directives\n",
    ")\n"
   ]
  },
  {
   "cell_type": "markdown",
   "id": "2682af30",
   "metadata": {},
   "source": [
    "## D. Process alerts. These will be downloaded from the archive."
   ]
  },
  {
   "cell_type": "code",
   "execution_count": null,
   "id": "81dc01d7",
   "metadata": {},
   "outputs": [],
   "source": [
    "n = ac.run()"
   ]
  },
  {
   "cell_type": "code",
   "execution_count": null,
   "id": "67e3f23c",
   "metadata": {},
   "outputs": [],
   "source": [
    "print('Processed {} alerts locally (based on query output).'.format(n))"
   ]
  },
  {
   "cell_type": "markdown",
   "id": "c929e7e2",
   "metadata": {},
   "source": [
    "## E. Do T2 calculations"
   ]
  },
  {
   "cell_type": "code",
   "execution_count": null,
   "id": "9d506a51",
   "metadata": {},
   "outputs": [],
   "source": [
    "t2w = ctx.new_context_unit(\n",
    "    unit = 'T2Worker',\n",
    "    process_name = 'T2Processor_test',\n",
    "    log_profile = os.environ.get('log_profile', 'default')\n",
    ")"
   ]
  },
  {
   "cell_type": "code",
   "execution_count": null,
   "id": "5d6b100f",
   "metadata": {},
   "outputs": [],
   "source": [
    "t2w.run()"
   ]
  },
  {
   "cell_type": "markdown",
   "id": "5ca72b34",
   "metadata": {},
   "source": [
    "## F. Run T3s..."
   ]
  },
  {
   "cell_type": "code",
   "execution_count": null,
   "id": "6068a3a4",
   "metadata": {},
   "outputs": [],
   "source": []
  }
 ],
 "metadata": {
  "kernelspec": {
   "display_name": "Python 3 (ipykernel)",
   "language": "python",
   "name": "python3"
  },
  "language_info": {
   "codemirror_mode": {
    "name": "ipython",
    "version": 3
   },
   "file_extension": ".py",
   "mimetype": "text/x-python",
   "name": "python",
   "nbconvert_exporter": "python",
   "pygments_lexer": "ipython3",
   "version": "3.10.6"
  }
 },
 "nbformat": 4,
 "nbformat_minor": 5
}
